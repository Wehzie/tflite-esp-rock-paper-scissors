{
  "cells": [
    {
      "cell_type": "code",
      "execution_count": null,
      "metadata": {
        "colab": {
          "base_uri": "https://localhost:8080/"
        },
        "id": "XRpjAD1x5usE",
        "outputId": "9b1c2ff2-c715-417c-9a0f-532f300c3a11"
      },
      "outputs": [],
      "source": [
        "# COLAB TEMPLATE FOR SINGLE FILE/FOLDER PROJECTS WITHOUT UPLOADING DATA\n",
        "\n",
        "#0-4. upload a folder with this file and source code and requirements.txt\n",
        "#1. create project folder on google drive inside the folder Colab Notebooks\n",
        "#2. upload this notebook\n",
        "#3. upload python source files\n",
        "#4. generate requirements.txt with pipreqs or pip3 freeze (venv) and upload\n",
        "\n",
        "#get data and source code\n",
        "from google.colab import drive\n",
        "drive.mount('/content/drive')\n",
        "import os\n",
        "os.chdir('/content/drive/My Drive/Colab Notebooks/')"
      ]
    },
    {
      "cell_type": "code",
      "execution_count": null,
      "metadata": {},
      "outputs": [],
      "source": [
        "# show GPU information\n",
        "!nvidia-smi -L"
      ]
    },
    {
      "cell_type": "code",
      "execution_count": null,
      "metadata": {
        "colab": {
          "base_uri": "https://localhost:8080/"
        },
        "id": "fv1jzzQZ5usN",
        "outputId": "2b950573-6489-4e08-fcab-60887b301aaf"
      },
      "outputs": [],
      "source": [
        "# run this when you upload this notebook to folder Colab Notebooks on Google Drive\n",
        "# and inside Colab Notebooks you have the main-project-folder\n",
        "%ls\n",
        "# change path to project folder name\n",
        "%cd \"main-project-folder\" "
      ]
    },
    {
      "cell_type": "code",
      "execution_count": null,
      "metadata": {
        "colab": {
          "base_uri": "https://localhost:8080/"
        },
        "id": "7m4eucr-8V9k",
        "outputId": "e9ca3a72-092b-4df0-af65-605cdfb43476"
      },
      "outputs": [],
      "source": [
        "# all packages in requirements.txt (except development packages)\n",
        "#!pip3 install requirements.txt\n",
        "\n",
        "# or manually\n",
        "!pip3 install numpy"
      ]
    },
    {
      "cell_type": "code",
      "execution_count": null,
      "metadata": {
        "colab": {
          "base_uri": "https://localhost:8080/"
        },
        "id": "pNTurxtU5usP",
        "outputId": "86c7b4bc-0776-4d7a-f2ad-c1586a7e15bb"
      },
      "outputs": [],
      "source": [
        "# run with CPU or GPU\n",
        "# to change to GPU change the runtime in Colab\n",
        "# when changing runtime the drive needs to be mounted again\n",
        "\n",
        "%run src/to/main.py --arg"
      ]
    },
    {
      "cell_type": "code",
      "execution_count": null,
      "metadata": {
        "id": "E5owLJoj5usQ"
      },
      "outputs": [],
      "source": [
        "# run with TPU\n",
        "# to change to TPU change the runtime in Colab\n",
        "import tensorflow as tf\n",
        "resolver = tf.distribute.cluster_resolver.TPUClusterResolver(tpu='')\n",
        "tf.config.experimental_connect_to_cluster(resolver)\n",
        "# This is the TPU initialization code that has to be at the beginning.\n",
        "tf.tpu.experimental.initialize_tpu_system(resolver)\n",
        "print(\"All devices: \", tf.config.list_logical_devices('TPU'))\n",
        "\n",
        "%run src/to/main.py --arg"
      ]
    }
  ],
  "metadata": {
    "accelerator": "GPU",
    "colab": {
      "collapsed_sections": [],
      "name": "LOAD_COLAB.ipynb",
      "provenance": []
    },
    "kernelspec": {
      "display_name": "Python 3",
      "language": "python",
      "name": "python3"
    },
    "language_info": {
      "codemirror_mode": {
        "name": "ipython",
        "version": 3
      },
      "file_extension": ".py",
      "mimetype": "text/x-python",
      "name": "python",
      "nbconvert_exporter": "python",
      "pygments_lexer": "ipython3",
      "version": "3.8.6"
    },
    "orig_nbformat": 2
  },
  "nbformat": 4,
  "nbformat_minor": 0
}
